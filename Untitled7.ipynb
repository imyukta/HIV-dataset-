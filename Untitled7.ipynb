{
  "nbformat": 4,
  "nbformat_minor": 0,
  "metadata": {
    "colab": {
      "name": "Untitled7.ipynb",
      "provenance": [],
      "collapsed_sections": []
    },
    "kernelspec": {
      "name": "python3",
      "display_name": "Python 3"
    }
  },
  "cells": [
    {
      "cell_type": "code",
      "metadata": {
        "id": "TiEyfgUuQPzo"
      },
      "source": [
        "import numpy as np\n",
        "import matplotlib.pyplot as plt\n",
        "import pandas as pd\n",
        "import seaborn as sns\n",
        "import re\n",
        "%matplotlib inline"
      ],
      "execution_count": null,
      "outputs": []
    },
    {
      "cell_type": "code",
      "metadata": {
        "colab": {
          "base_uri": "https://localhost:8080/",
          "height": 546
        },
        "id": "8qCW985ZRMQ9",
        "outputId": "b62f191e-249b-4a96-fe5c-fe259888e442"
      },
      "source": [
        "data1=pd.read_excel(\"HIV_0000000026,SDGHIV (1).xlsx\")\n",
        "data1.head(10)"
      ],
      "execution_count": null,
      "outputs": [
        {
          "output_type": "execute_result",
          "data": {
            "text/html": [
              "<div>\n",
              "<style scoped>\n",
              "    .dataframe tbody tr th:only-of-type {\n",
              "        vertical-align: middle;\n",
              "    }\n",
              "\n",
              "    .dataframe tbody tr th {\n",
              "        vertical-align: top;\n",
              "    }\n",
              "\n",
              "    .dataframe thead th {\n",
              "        text-align: right;\n",
              "    }\n",
              "</style>\n",
              "<table border=\"1\" class=\"dataframe\">\n",
              "  <thead>\n",
              "    <tr style=\"text-align: right;\">\n",
              "      <th></th>\n",
              "      <th>Unnamed: 0</th>\n",
              "      <th>Unnamed: 1</th>\n",
              "      <th>Number of new HIV infections</th>\n",
              "      <th>New HIV infections (per 1000 uninfected population)</th>\n",
              "      <th>New HIV infections (per 1000 uninfected population).1</th>\n",
              "      <th>New HIV infections (per 1000 uninfected population).2</th>\n",
              "    </tr>\n",
              "  </thead>\n",
              "  <tbody>\n",
              "    <tr>\n",
              "      <th>0</th>\n",
              "      <td>WHO region</td>\n",
              "      <td>Year</td>\n",
              "      <td></td>\n",
              "      <td>Both sexes</td>\n",
              "      <td>Male</td>\n",
              "      <td>Female</td>\n",
              "    </tr>\n",
              "    <tr>\n",
              "      <th>1</th>\n",
              "      <td>Global</td>\n",
              "      <td>2019</td>\n",
              "      <td>1 700 000 [1 200 000–2 200 000]</td>\n",
              "      <td>0.22 [0.16–0.3]</td>\n",
              "      <td>0.23 [0.17–0.32]</td>\n",
              "      <td>0.21 [0.16-0.29]</td>\n",
              "    </tr>\n",
              "    <tr>\n",
              "      <th>2</th>\n",
              "      <td>Global</td>\n",
              "      <td>2018</td>\n",
              "      <td>1 700 000 [1 200 000–2 300 000]</td>\n",
              "      <td>0.23 [0.17–0.31]</td>\n",
              "      <td>0.24 [0.17–0.33]</td>\n",
              "      <td>0.22 [0.16-0.3]</td>\n",
              "    </tr>\n",
              "    <tr>\n",
              "      <th>3</th>\n",
              "      <td>Global</td>\n",
              "      <td>2017</td>\n",
              "      <td>1 800 000 [1 300 000–2 400 000]</td>\n",
              "      <td>0.24 [0.18–0.32]</td>\n",
              "      <td>0.24 [0.18–0.34]</td>\n",
              "      <td>0.23 [0.17-0.32]</td>\n",
              "    </tr>\n",
              "    <tr>\n",
              "      <th>4</th>\n",
              "      <td>Global</td>\n",
              "      <td>2016</td>\n",
              "      <td>1 800 000 [1 300 000–2 400 000]</td>\n",
              "      <td>0.25 [0.18–0.34]</td>\n",
              "      <td>0.25 [0.18–0.35]</td>\n",
              "      <td>0.24 [0.18-0.33]</td>\n",
              "    </tr>\n",
              "    <tr>\n",
              "      <th>5</th>\n",
              "      <td>Global</td>\n",
              "      <td>2015</td>\n",
              "      <td>1 900 000 [1 400 000–2 500 000]</td>\n",
              "      <td>0.26 [0.19–0.35]</td>\n",
              "      <td>0.26 [0.19–0.36]</td>\n",
              "      <td>0.26 [0.19-0.35]</td>\n",
              "    </tr>\n",
              "    <tr>\n",
              "      <th>6</th>\n",
              "      <td>Global</td>\n",
              "      <td>2014</td>\n",
              "      <td>1 900 000 [1 400 000–2 600 000]</td>\n",
              "      <td>0.27 [0.2–0.37]</td>\n",
              "      <td>0.27 [0.19–0.37]</td>\n",
              "      <td>0.27 [0.2-0.36]</td>\n",
              "    </tr>\n",
              "    <tr>\n",
              "      <th>7</th>\n",
              "      <td>Global</td>\n",
              "      <td>2013</td>\n",
              "      <td>2 000 000 [1 400 000–2 600 000]</td>\n",
              "      <td>0.28 [0.21–0.38]</td>\n",
              "      <td>0.28 [0.2–0.38]</td>\n",
              "      <td>0.28 [0.21-0.38]</td>\n",
              "    </tr>\n",
              "    <tr>\n",
              "      <th>8</th>\n",
              "      <td>Global</td>\n",
              "      <td>2012</td>\n",
              "      <td>2 000 000 [1 500 000–2 700 000]</td>\n",
              "      <td>0.29 [0.21–0.4]</td>\n",
              "      <td>0.29 [0.21–0.4]</td>\n",
              "      <td>0.29 [0.22-0.4]</td>\n",
              "    </tr>\n",
              "    <tr>\n",
              "      <th>9</th>\n",
              "      <td>Global</td>\n",
              "      <td>2011</td>\n",
              "      <td>2 100 000 [1 500 000–2 800 000]</td>\n",
              "      <td>0.3 [0.22–0.41]</td>\n",
              "      <td>0.3 [0.21–0.41]</td>\n",
              "      <td>0.31 [0.23-0.42]</td>\n",
              "    </tr>\n",
              "  </tbody>\n",
              "</table>\n",
              "</div>"
            ],
            "text/plain": [
              "   Unnamed: 0  ... New HIV infections (per 1000 uninfected population).2\n",
              "0  WHO region  ...                                             Female   \n",
              "1      Global  ...                                   0.21 [0.16-0.29]   \n",
              "2      Global  ...                                    0.22 [0.16-0.3]   \n",
              "3      Global  ...                                   0.23 [0.17-0.32]   \n",
              "4      Global  ...                                   0.24 [0.18-0.33]   \n",
              "5      Global  ...                                   0.26 [0.19-0.35]   \n",
              "6      Global  ...                                    0.27 [0.2-0.36]   \n",
              "7      Global  ...                                   0.28 [0.21-0.38]   \n",
              "8      Global  ...                                    0.29 [0.22-0.4]   \n",
              "9      Global  ...                                   0.31 [0.23-0.42]   \n",
              "\n",
              "[10 rows x 6 columns]"
            ]
          },
          "metadata": {
            "tags": []
          },
          "execution_count": 45
        }
      ]
    },
    {
      "cell_type": "code",
      "metadata": {
        "id": "YIAqvR3UUr1N"
      },
      "source": [
        "data1=data1.rename(columns={\"Unnamed: 0\":\"WHO region\",\"Unnamed: 1\":\"Year\",\"Number of new HIV infections\":\"Number_of_new_HIV_infections\",\n",
        "                            \"New HIV infections (per 1000 uninfected population)\":\"New_HIV_infections_per_1000_uninfected_population_both_sexes\",\n",
        "                           \"New HIV infections (per 1000 uninfected population).1\":\"New_HIV_infections_per_1000_uninfected_population_Males\",\n",
        "                           \"New HIV infections (per 1000 uninfected population).2\":\"New_HIV_infections_per_1000_uninfected_population_Females\"})"
      ],
      "execution_count": null,
      "outputs": []
    },
    {
      "cell_type": "code",
      "metadata": {
        "colab": {
          "base_uri": "https://localhost:8080/",
          "height": 396
        },
        "id": "SR8GrLtPUwol",
        "outputId": "5638d8c7-8d16-4643-f586-e61e610c20e3"
      },
      "source": [
        "data1=data1[1:]\n",
        "data1.head(10)"
      ],
      "execution_count": null,
      "outputs": [
        {
          "output_type": "execute_result",
          "data": {
            "text/html": [
              "<div>\n",
              "<style scoped>\n",
              "    .dataframe tbody tr th:only-of-type {\n",
              "        vertical-align: middle;\n",
              "    }\n",
              "\n",
              "    .dataframe tbody tr th {\n",
              "        vertical-align: top;\n",
              "    }\n",
              "\n",
              "    .dataframe thead th {\n",
              "        text-align: right;\n",
              "    }\n",
              "</style>\n",
              "<table border=\"1\" class=\"dataframe\">\n",
              "  <thead>\n",
              "    <tr style=\"text-align: right;\">\n",
              "      <th></th>\n",
              "      <th>WHO region</th>\n",
              "      <th>Year</th>\n",
              "      <th>Number_of_new_HIV_infections</th>\n",
              "      <th>New_HIV_infections_per_1000_uninfected_population_both_sexes</th>\n",
              "      <th>New_HIV_infections_per_1000_uninfected_population_Males</th>\n",
              "      <th>New_HIV_infections_per_1000_uninfected_population_Females</th>\n",
              "    </tr>\n",
              "  </thead>\n",
              "  <tbody>\n",
              "    <tr>\n",
              "      <th>1</th>\n",
              "      <td>Global</td>\n",
              "      <td>2019</td>\n",
              "      <td>1 700 000 [1 200 000–2 200 000]</td>\n",
              "      <td>0.22 [0.16–0.3]</td>\n",
              "      <td>0.23 [0.17–0.32]</td>\n",
              "      <td>0.21 [0.16-0.29]</td>\n",
              "    </tr>\n",
              "    <tr>\n",
              "      <th>2</th>\n",
              "      <td>Global</td>\n",
              "      <td>2018</td>\n",
              "      <td>1 700 000 [1 200 000–2 300 000]</td>\n",
              "      <td>0.23 [0.17–0.31]</td>\n",
              "      <td>0.24 [0.17–0.33]</td>\n",
              "      <td>0.22 [0.16-0.3]</td>\n",
              "    </tr>\n",
              "    <tr>\n",
              "      <th>3</th>\n",
              "      <td>Global</td>\n",
              "      <td>2017</td>\n",
              "      <td>1 800 000 [1 300 000–2 400 000]</td>\n",
              "      <td>0.24 [0.18–0.32]</td>\n",
              "      <td>0.24 [0.18–0.34]</td>\n",
              "      <td>0.23 [0.17-0.32]</td>\n",
              "    </tr>\n",
              "    <tr>\n",
              "      <th>4</th>\n",
              "      <td>Global</td>\n",
              "      <td>2016</td>\n",
              "      <td>1 800 000 [1 300 000–2 400 000]</td>\n",
              "      <td>0.25 [0.18–0.34]</td>\n",
              "      <td>0.25 [0.18–0.35]</td>\n",
              "      <td>0.24 [0.18-0.33]</td>\n",
              "    </tr>\n",
              "    <tr>\n",
              "      <th>5</th>\n",
              "      <td>Global</td>\n",
              "      <td>2015</td>\n",
              "      <td>1 900 000 [1 400 000–2 500 000]</td>\n",
              "      <td>0.26 [0.19–0.35]</td>\n",
              "      <td>0.26 [0.19–0.36]</td>\n",
              "      <td>0.26 [0.19-0.35]</td>\n",
              "    </tr>\n",
              "    <tr>\n",
              "      <th>6</th>\n",
              "      <td>Global</td>\n",
              "      <td>2014</td>\n",
              "      <td>1 900 000 [1 400 000–2 600 000]</td>\n",
              "      <td>0.27 [0.2–0.37]</td>\n",
              "      <td>0.27 [0.19–0.37]</td>\n",
              "      <td>0.27 [0.2-0.36]</td>\n",
              "    </tr>\n",
              "    <tr>\n",
              "      <th>7</th>\n",
              "      <td>Global</td>\n",
              "      <td>2013</td>\n",
              "      <td>2 000 000 [1 400 000–2 600 000]</td>\n",
              "      <td>0.28 [0.21–0.38]</td>\n",
              "      <td>0.28 [0.2–0.38]</td>\n",
              "      <td>0.28 [0.21-0.38]</td>\n",
              "    </tr>\n",
              "    <tr>\n",
              "      <th>8</th>\n",
              "      <td>Global</td>\n",
              "      <td>2012</td>\n",
              "      <td>2 000 000 [1 500 000–2 700 000]</td>\n",
              "      <td>0.29 [0.21–0.4]</td>\n",
              "      <td>0.29 [0.21–0.4]</td>\n",
              "      <td>0.29 [0.22-0.4]</td>\n",
              "    </tr>\n",
              "    <tr>\n",
              "      <th>9</th>\n",
              "      <td>Global</td>\n",
              "      <td>2011</td>\n",
              "      <td>2 100 000 [1 500 000–2 800 000]</td>\n",
              "      <td>0.3 [0.22–0.41]</td>\n",
              "      <td>0.3 [0.21–0.41]</td>\n",
              "      <td>0.31 [0.23-0.42]</td>\n",
              "    </tr>\n",
              "    <tr>\n",
              "      <th>10</th>\n",
              "      <td>Global</td>\n",
              "      <td>2010</td>\n",
              "      <td>2 100 000 [1 600 000–2 900 000]</td>\n",
              "      <td>0.32 [0.23–0.43]</td>\n",
              "      <td>0.31 [0.22–0.43]</td>\n",
              "      <td>0.32 [0.24-0.44]</td>\n",
              "    </tr>\n",
              "  </tbody>\n",
              "</table>\n",
              "</div>"
            ],
            "text/plain": [
              "   WHO region  ... New_HIV_infections_per_1000_uninfected_population_Females\n",
              "1      Global  ...                                   0.21 [0.16-0.29]       \n",
              "2      Global  ...                                    0.22 [0.16-0.3]       \n",
              "3      Global  ...                                   0.23 [0.17-0.32]       \n",
              "4      Global  ...                                   0.24 [0.18-0.33]       \n",
              "5      Global  ...                                   0.26 [0.19-0.35]       \n",
              "6      Global  ...                                    0.27 [0.2-0.36]       \n",
              "7      Global  ...                                   0.28 [0.21-0.38]       \n",
              "8      Global  ...                                    0.29 [0.22-0.4]       \n",
              "9      Global  ...                                   0.31 [0.23-0.42]       \n",
              "10     Global  ...                                   0.32 [0.24-0.44]       \n",
              "\n",
              "[10 rows x 6 columns]"
            ]
          },
          "metadata": {
            "tags": []
          },
          "execution_count": 47
        }
      ]
    },
    {
      "cell_type": "code",
      "metadata": {
        "colab": {
          "base_uri": "https://localhost:8080/"
        },
        "id": "shqxGO80VKUH",
        "outputId": "a1654206-edc7-4895-b694-d53548b82880"
      },
      "source": [
        "data1.info()"
      ],
      "execution_count": null,
      "outputs": [
        {
          "output_type": "stream",
          "text": [
            "<class 'pandas.core.frame.DataFrame'>\n",
            "RangeIndex: 210 entries, 1 to 210\n",
            "Data columns (total 6 columns):\n",
            " #   Column                                                        Non-Null Count  Dtype \n",
            "---  ------                                                        --------------  ----- \n",
            " 0   WHO region                                                    210 non-null    object\n",
            " 1   Year                                                          210 non-null    object\n",
            " 2   Number_of_new_HIV_infections                                  210 non-null    object\n",
            " 3   New_HIV_infections_per_1000_uninfected_population_both_sexes  210 non-null    object\n",
            " 4   New_HIV_infections_per_1000_uninfected_population_Males       210 non-null    object\n",
            " 5   New_HIV_infections_per_1000_uninfected_population_Females     210 non-null    object\n",
            "dtypes: object(6)\n",
            "memory usage: 10.0+ KB\n"
          ],
          "name": "stdout"
        }
      ]
    },
    {
      "cell_type": "code",
      "metadata": {
        "colab": {
          "base_uri": "https://localhost:8080/",
          "height": 359
        },
        "id": "_4yMmK_0VOGF",
        "outputId": "0fe80a31-36ad-44b6-d4ad-df794f4dcc49"
      },
      "source": [
        "data2=pd.read_excel(\"HIV_0000000001 (2).xlsx\")\n",
        "data2.head(10)"
      ],
      "execution_count": null,
      "outputs": [
        {
          "output_type": "execute_result",
          "data": {
            "text/html": [
              "<div>\n",
              "<style scoped>\n",
              "    .dataframe tbody tr th:only-of-type {\n",
              "        vertical-align: middle;\n",
              "    }\n",
              "\n",
              "    .dataframe tbody tr th {\n",
              "        vertical-align: top;\n",
              "    }\n",
              "\n",
              "    .dataframe thead th {\n",
              "        text-align: right;\n",
              "    }\n",
              "</style>\n",
              "<table border=\"1\" class=\"dataframe\">\n",
              "  <thead>\n",
              "    <tr style=\"text-align: right;\">\n",
              "      <th></th>\n",
              "      <th>REGION</th>\n",
              "      <th>YEAR</th>\n",
              "      <th>PEOPLE HAVING HIV</th>\n",
              "    </tr>\n",
              "  </thead>\n",
              "  <tbody>\n",
              "    <tr>\n",
              "      <th>0</th>\n",
              "      <td>Global</td>\n",
              "      <td>2019</td>\n",
              "      <td>38 000 000</td>\n",
              "    </tr>\n",
              "    <tr>\n",
              "      <th>1</th>\n",
              "      <td>Global</td>\n",
              "      <td>2018</td>\n",
              "      <td>37 300 000</td>\n",
              "    </tr>\n",
              "    <tr>\n",
              "      <th>2</th>\n",
              "      <td>Global</td>\n",
              "      <td>2017</td>\n",
              "      <td>36 500 000</td>\n",
              "    </tr>\n",
              "    <tr>\n",
              "      <th>3</th>\n",
              "      <td>Global</td>\n",
              "      <td>2016</td>\n",
              "      <td>35 700 000</td>\n",
              "    </tr>\n",
              "    <tr>\n",
              "      <th>4</th>\n",
              "      <td>Global</td>\n",
              "      <td>2015</td>\n",
              "      <td>34 900 000</td>\n",
              "    </tr>\n",
              "    <tr>\n",
              "      <th>5</th>\n",
              "      <td>Global</td>\n",
              "      <td>2014</td>\n",
              "      <td>34 100 000</td>\n",
              "    </tr>\n",
              "    <tr>\n",
              "      <th>6</th>\n",
              "      <td>Global</td>\n",
              "      <td>2013</td>\n",
              "      <td>33 200 000</td>\n",
              "    </tr>\n",
              "    <tr>\n",
              "      <th>7</th>\n",
              "      <td>Global</td>\n",
              "      <td>2012</td>\n",
              "      <td>32 400 000</td>\n",
              "    </tr>\n",
              "    <tr>\n",
              "      <th>8</th>\n",
              "      <td>Global</td>\n",
              "      <td>2011</td>\n",
              "      <td>31 600 000</td>\n",
              "    </tr>\n",
              "    <tr>\n",
              "      <th>9</th>\n",
              "      <td>Global</td>\n",
              "      <td>2010</td>\n",
              "      <td>30 700 000</td>\n",
              "    </tr>\n",
              "  </tbody>\n",
              "</table>\n",
              "</div>"
            ],
            "text/plain": [
              "   REGION  YEAR PEOPLE HAVING HIV\n",
              "0  Global  2019       38 000 000 \n",
              "1  Global  2018        37 300 000\n",
              "2  Global  2017        36 500 000\n",
              "3  Global  2016        35 700 000\n",
              "4  Global  2015       34 900 000 \n",
              "5  Global  2014       34 100 000 \n",
              "6  Global  2013       33 200 000 \n",
              "7  Global  2012       32 400 000 \n",
              "8  Global  2011       31 600 000 \n",
              "9  Global  2010       30 700 000 "
            ]
          },
          "metadata": {
            "tags": []
          },
          "execution_count": 49
        }
      ]
    },
    {
      "cell_type": "code",
      "metadata": {
        "id": "BJE51-vbVS1O"
      },
      "source": [
        "data2=data2.rename(columns={'REGION':'WHO region','YEAR':'Year'})"
      ],
      "execution_count": null,
      "outputs": []
    },
    {
      "cell_type": "code",
      "metadata": {
        "colab": {
          "base_uri": "https://localhost:8080/"
        },
        "id": "AYUWXx4pVWFk",
        "outputId": "37a3a435-d2d9-4b9a-b5a0-123d42aef835"
      },
      "source": [
        "data2.info()"
      ],
      "execution_count": null,
      "outputs": [
        {
          "output_type": "stream",
          "text": [
            "<class 'pandas.core.frame.DataFrame'>\n",
            "RangeIndex: 210 entries, 0 to 209\n",
            "Data columns (total 3 columns):\n",
            " #   Column             Non-Null Count  Dtype \n",
            "---  ------             --------------  ----- \n",
            " 0   WHO region         210 non-null    object\n",
            " 1   Year               210 non-null    int64 \n",
            " 2   PEOPLE HAVING HIV  210 non-null    object\n",
            "dtypes: int64(1), object(2)\n",
            "memory usage: 5.0+ KB\n"
          ],
          "name": "stdout"
        }
      ]
    },
    {
      "cell_type": "code",
      "metadata": {
        "colab": {
          "base_uri": "https://localhost:8080/",
          "height": 204
        },
        "id": "uc6SFpb8Vya2",
        "outputId": "f73328f5-e84d-4288-ea7a-3da76d8d40a9"
      },
      "source": [
        "data3=pd.read_excel(\"HIV_0000000006.xlsx\")\n",
        "data3.head()"
      ],
      "execution_count": null,
      "outputs": [
        {
          "output_type": "execute_result",
          "data": {
            "text/html": [
              "<div>\n",
              "<style scoped>\n",
              "    .dataframe tbody tr th:only-of-type {\n",
              "        vertical-align: middle;\n",
              "    }\n",
              "\n",
              "    .dataframe tbody tr th {\n",
              "        vertical-align: top;\n",
              "    }\n",
              "\n",
              "    .dataframe thead th {\n",
              "        text-align: right;\n",
              "    }\n",
              "</style>\n",
              "<table border=\"1\" class=\"dataframe\">\n",
              "  <thead>\n",
              "    <tr style=\"text-align: right;\">\n",
              "      <th></th>\n",
              "      <th>WHO region</th>\n",
              "      <th>Year</th>\n",
              "      <th>Number of deaths due to HIV/AIDS</th>\n",
              "    </tr>\n",
              "  </thead>\n",
              "  <tbody>\n",
              "    <tr>\n",
              "      <th>0</th>\n",
              "      <td>Global</td>\n",
              "      <td>2019</td>\n",
              "      <td>690 000 [500 000–970 000]</td>\n",
              "    </tr>\n",
              "    <tr>\n",
              "      <th>1</th>\n",
              "      <td>Global</td>\n",
              "      <td>2018</td>\n",
              "      <td>730 000 [530 000–1 000 000]</td>\n",
              "    </tr>\n",
              "    <tr>\n",
              "      <th>2</th>\n",
              "      <td>Global</td>\n",
              "      <td>2017</td>\n",
              "      <td>760 000 [550 000–1 100 000]</td>\n",
              "    </tr>\n",
              "    <tr>\n",
              "      <th>3</th>\n",
              "      <td>Global</td>\n",
              "      <td>2016</td>\n",
              "      <td>800 000 [580 000–1 100 000]</td>\n",
              "    </tr>\n",
              "    <tr>\n",
              "      <th>4</th>\n",
              "      <td>Global</td>\n",
              "      <td>2015</td>\n",
              "      <td>830 000 [610 000–1 200 000]</td>\n",
              "    </tr>\n",
              "  </tbody>\n",
              "</table>\n",
              "</div>"
            ],
            "text/plain": [
              "  WHO region  Year Number of deaths due to HIV/AIDS\n",
              "0     Global  2019        690 000 [500 000–970 000]\n",
              "1     Global  2018      730 000 [530 000–1 000 000]\n",
              "2     Global  2017      760 000 [550 000–1 100 000]\n",
              "3     Global  2016      800 000 [580 000–1 100 000]\n",
              "4     Global  2015      830 000 [610 000–1 200 000]"
            ]
          },
          "metadata": {
            "tags": []
          },
          "execution_count": 52
        }
      ]
    },
    {
      "cell_type": "code",
      "metadata": {
        "id": "BwuOsdHhV2iu"
      },
      "source": [
        "data3=data3.rename(columns={\"Number of deaths due to HIV/AIDS\":\"Number_of_deaths_due_to_HIV/AIDS\"})"
      ],
      "execution_count": null,
      "outputs": []
    },
    {
      "cell_type": "code",
      "metadata": {
        "colab": {
          "base_uri": "https://localhost:8080/"
        },
        "id": "0mdasz9PV_iF",
        "outputId": "ece8b378-295b-4cdd-f6e2-5d55c8b2a668"
      },
      "source": [
        "data3.info()"
      ],
      "execution_count": null,
      "outputs": [
        {
          "output_type": "stream",
          "text": [
            "<class 'pandas.core.frame.DataFrame'>\n",
            "RangeIndex: 210 entries, 0 to 209\n",
            "Data columns (total 3 columns):\n",
            " #   Column                            Non-Null Count  Dtype \n",
            "---  ------                            --------------  ----- \n",
            " 0   WHO region                        210 non-null    object\n",
            " 1   Year                              210 non-null    int64 \n",
            " 2   Number_of_deaths_due_to_HIV/AIDS  210 non-null    object\n",
            "dtypes: int64(1), object(2)\n",
            "memory usage: 5.0+ KB\n"
          ],
          "name": "stdout"
        }
      ]
    },
    {
      "cell_type": "code",
      "metadata": {
        "id": "sHqJd7jUWFGf"
      },
      "source": [
        "#data1.shape --(210, 6)\n",
        "#data2.shape --(210, 3)\n",
        "#data3.shape  --(210, 3)"
      ],
      "execution_count": null,
      "outputs": []
    },
    {
      "cell_type": "code",
      "metadata": {
        "colab": {
          "base_uri": "https://localhost:8080/",
          "height": 343
        },
        "id": "eE5ax45TWH6X",
        "outputId": "273279b6-e15f-402f-f400-ebbaece38c82"
      },
      "source": [
        "data=pd.merge(data1,data2,on=\"WHO region\")\n",
        "data.head()"
      ],
      "execution_count": null,
      "outputs": [
        {
          "output_type": "execute_result",
          "data": {
            "text/html": [
              "<div>\n",
              "<style scoped>\n",
              "    .dataframe tbody tr th:only-of-type {\n",
              "        vertical-align: middle;\n",
              "    }\n",
              "\n",
              "    .dataframe tbody tr th {\n",
              "        vertical-align: top;\n",
              "    }\n",
              "\n",
              "    .dataframe thead th {\n",
              "        text-align: right;\n",
              "    }\n",
              "</style>\n",
              "<table border=\"1\" class=\"dataframe\">\n",
              "  <thead>\n",
              "    <tr style=\"text-align: right;\">\n",
              "      <th></th>\n",
              "      <th>WHO region</th>\n",
              "      <th>Year_x</th>\n",
              "      <th>Number_of_new_HIV_infections</th>\n",
              "      <th>New_HIV_infections_per_1000_uninfected_population_both_sexes</th>\n",
              "      <th>New_HIV_infections_per_1000_uninfected_population_Males</th>\n",
              "      <th>New_HIV_infections_per_1000_uninfected_population_Females</th>\n",
              "      <th>Year_y</th>\n",
              "      <th>PEOPLE HAVING HIV</th>\n",
              "    </tr>\n",
              "  </thead>\n",
              "  <tbody>\n",
              "    <tr>\n",
              "      <th>0</th>\n",
              "      <td>Global</td>\n",
              "      <td>2019</td>\n",
              "      <td>1 700 000 [1 200 000–2 200 000]</td>\n",
              "      <td>0.22 [0.16–0.3]</td>\n",
              "      <td>0.23 [0.17–0.32]</td>\n",
              "      <td>0.21 [0.16-0.29]</td>\n",
              "      <td>2019</td>\n",
              "      <td>38 000 000</td>\n",
              "    </tr>\n",
              "    <tr>\n",
              "      <th>1</th>\n",
              "      <td>Global</td>\n",
              "      <td>2019</td>\n",
              "      <td>1 700 000 [1 200 000–2 200 000]</td>\n",
              "      <td>0.22 [0.16–0.3]</td>\n",
              "      <td>0.23 [0.17–0.32]</td>\n",
              "      <td>0.21 [0.16-0.29]</td>\n",
              "      <td>2018</td>\n",
              "      <td>37 300 000</td>\n",
              "    </tr>\n",
              "    <tr>\n",
              "      <th>2</th>\n",
              "      <td>Global</td>\n",
              "      <td>2019</td>\n",
              "      <td>1 700 000 [1 200 000–2 200 000]</td>\n",
              "      <td>0.22 [0.16–0.3]</td>\n",
              "      <td>0.23 [0.17–0.32]</td>\n",
              "      <td>0.21 [0.16-0.29]</td>\n",
              "      <td>2017</td>\n",
              "      <td>36 500 000</td>\n",
              "    </tr>\n",
              "    <tr>\n",
              "      <th>3</th>\n",
              "      <td>Global</td>\n",
              "      <td>2019</td>\n",
              "      <td>1 700 000 [1 200 000–2 200 000]</td>\n",
              "      <td>0.22 [0.16–0.3]</td>\n",
              "      <td>0.23 [0.17–0.32]</td>\n",
              "      <td>0.21 [0.16-0.29]</td>\n",
              "      <td>2016</td>\n",
              "      <td>35 700 000</td>\n",
              "    </tr>\n",
              "    <tr>\n",
              "      <th>4</th>\n",
              "      <td>Global</td>\n",
              "      <td>2019</td>\n",
              "      <td>1 700 000 [1 200 000–2 200 000]</td>\n",
              "      <td>0.22 [0.16–0.3]</td>\n",
              "      <td>0.23 [0.17–0.32]</td>\n",
              "      <td>0.21 [0.16-0.29]</td>\n",
              "      <td>2015</td>\n",
              "      <td>34 900 000</td>\n",
              "    </tr>\n",
              "  </tbody>\n",
              "</table>\n",
              "</div>"
            ],
            "text/plain": [
              "  WHO region Year_x  ... Year_y PEOPLE HAVING HIV\n",
              "0     Global   2019  ...   2019       38 000 000 \n",
              "1     Global   2019  ...   2018        37 300 000\n",
              "2     Global   2019  ...   2017        36 500 000\n",
              "3     Global   2019  ...   2016        35 700 000\n",
              "4     Global   2019  ...   2015       34 900 000 \n",
              "\n",
              "[5 rows x 8 columns]"
            ]
          },
          "metadata": {
            "tags": []
          },
          "execution_count": 56
        }
      ]
    },
    {
      "cell_type": "code",
      "metadata": {
        "id": "pIDbaZKEWLhD"
      },
      "source": [
        "#data.shape\n",
        "data=pd.merge(data,data3, on=\"WHO region\")"
      ],
      "execution_count": null,
      "outputs": []
    },
    {
      "cell_type": "code",
      "metadata": {
        "colab": {
          "base_uri": "https://localhost:8080/",
          "height": 343
        },
        "id": "P7dZ0JUGWdJB",
        "outputId": "4a34217e-184b-473b-8f3b-3710fcef76d7"
      },
      "source": [
        "#data.shape\n",
        "data.head()"
      ],
      "execution_count": null,
      "outputs": [
        {
          "output_type": "execute_result",
          "data": {
            "text/html": [
              "<div>\n",
              "<style scoped>\n",
              "    .dataframe tbody tr th:only-of-type {\n",
              "        vertical-align: middle;\n",
              "    }\n",
              "\n",
              "    .dataframe tbody tr th {\n",
              "        vertical-align: top;\n",
              "    }\n",
              "\n",
              "    .dataframe thead th {\n",
              "        text-align: right;\n",
              "    }\n",
              "</style>\n",
              "<table border=\"1\" class=\"dataframe\">\n",
              "  <thead>\n",
              "    <tr style=\"text-align: right;\">\n",
              "      <th></th>\n",
              "      <th>WHO region</th>\n",
              "      <th>Year_x</th>\n",
              "      <th>Number_of_new_HIV_infections</th>\n",
              "      <th>New_HIV_infections_per_1000_uninfected_population_both_sexes</th>\n",
              "      <th>New_HIV_infections_per_1000_uninfected_population_Males</th>\n",
              "      <th>New_HIV_infections_per_1000_uninfected_population_Females</th>\n",
              "      <th>Year_y</th>\n",
              "      <th>PEOPLE HAVING HIV</th>\n",
              "      <th>Year</th>\n",
              "      <th>Number_of_deaths_due_to_HIV/AIDS</th>\n",
              "    </tr>\n",
              "  </thead>\n",
              "  <tbody>\n",
              "    <tr>\n",
              "      <th>0</th>\n",
              "      <td>Global</td>\n",
              "      <td>2019</td>\n",
              "      <td>1 700 000 [1 200 000–2 200 000]</td>\n",
              "      <td>0.22 [0.16–0.3]</td>\n",
              "      <td>0.23 [0.17–0.32]</td>\n",
              "      <td>0.21 [0.16-0.29]</td>\n",
              "      <td>2019</td>\n",
              "      <td>38 000 000</td>\n",
              "      <td>2019</td>\n",
              "      <td>690 000 [500 000–970 000]</td>\n",
              "    </tr>\n",
              "    <tr>\n",
              "      <th>1</th>\n",
              "      <td>Global</td>\n",
              "      <td>2019</td>\n",
              "      <td>1 700 000 [1 200 000–2 200 000]</td>\n",
              "      <td>0.22 [0.16–0.3]</td>\n",
              "      <td>0.23 [0.17–0.32]</td>\n",
              "      <td>0.21 [0.16-0.29]</td>\n",
              "      <td>2019</td>\n",
              "      <td>38 000 000</td>\n",
              "      <td>2018</td>\n",
              "      <td>730 000 [530 000–1 000 000]</td>\n",
              "    </tr>\n",
              "    <tr>\n",
              "      <th>2</th>\n",
              "      <td>Global</td>\n",
              "      <td>2019</td>\n",
              "      <td>1 700 000 [1 200 000–2 200 000]</td>\n",
              "      <td>0.22 [0.16–0.3]</td>\n",
              "      <td>0.23 [0.17–0.32]</td>\n",
              "      <td>0.21 [0.16-0.29]</td>\n",
              "      <td>2019</td>\n",
              "      <td>38 000 000</td>\n",
              "      <td>2017</td>\n",
              "      <td>760 000 [550 000–1 100 000]</td>\n",
              "    </tr>\n",
              "    <tr>\n",
              "      <th>3</th>\n",
              "      <td>Global</td>\n",
              "      <td>2019</td>\n",
              "      <td>1 700 000 [1 200 000–2 200 000]</td>\n",
              "      <td>0.22 [0.16–0.3]</td>\n",
              "      <td>0.23 [0.17–0.32]</td>\n",
              "      <td>0.21 [0.16-0.29]</td>\n",
              "      <td>2019</td>\n",
              "      <td>38 000 000</td>\n",
              "      <td>2016</td>\n",
              "      <td>800 000 [580 000–1 100 000]</td>\n",
              "    </tr>\n",
              "    <tr>\n",
              "      <th>4</th>\n",
              "      <td>Global</td>\n",
              "      <td>2019</td>\n",
              "      <td>1 700 000 [1 200 000–2 200 000]</td>\n",
              "      <td>0.22 [0.16–0.3]</td>\n",
              "      <td>0.23 [0.17–0.32]</td>\n",
              "      <td>0.21 [0.16-0.29]</td>\n",
              "      <td>2019</td>\n",
              "      <td>38 000 000</td>\n",
              "      <td>2015</td>\n",
              "      <td>830 000 [610 000–1 200 000]</td>\n",
              "    </tr>\n",
              "  </tbody>\n",
              "</table>\n",
              "</div>"
            ],
            "text/plain": [
              "  WHO region Year_x  ...  Year Number_of_deaths_due_to_HIV/AIDS\n",
              "0     Global   2019  ...  2019        690 000 [500 000–970 000]\n",
              "1     Global   2019  ...  2018      730 000 [530 000–1 000 000]\n",
              "2     Global   2019  ...  2017      760 000 [550 000–1 100 000]\n",
              "3     Global   2019  ...  2016      800 000 [580 000–1 100 000]\n",
              "4     Global   2019  ...  2015      830 000 [610 000–1 200 000]\n",
              "\n",
              "[5 rows x 10 columns]"
            ]
          },
          "metadata": {
            "tags": []
          },
          "execution_count": 58
        }
      ]
    },
    {
      "cell_type": "code",
      "metadata": {
        "id": "bNEf5jd_Wk0k"
      },
      "source": [
        "data.drop('Year_x',axis='columns', inplace=True)"
      ],
      "execution_count": null,
      "outputs": []
    },
    {
      "cell_type": "code",
      "metadata": {
        "id": "ZWxfff1lWluJ"
      },
      "source": [
        "data.drop('Year_y',axis='columns', inplace=True)"
      ],
      "execution_count": null,
      "outputs": []
    },
    {
      "cell_type": "code",
      "metadata": {
        "id": "xfn8VV7aWlwE"
      },
      "source": [
        "for col in data.columns:\n",
        "    if col!='Year':\n",
        "        data[col]=data[col].str.replace(r'\\[.*\\]',\"\")"
      ],
      "execution_count": null,
      "outputs": []
    },
    {
      "cell_type": "code",
      "metadata": {
        "colab": {
          "base_uri": "https://localhost:8080/",
          "height": 343
        },
        "id": "cj_QqFa9Wlz2",
        "outputId": "c2db387f-4722-48a4-f294-7d1e82960dbb"
      },
      "source": [
        "data.head()"
      ],
      "execution_count": null,
      "outputs": [
        {
          "output_type": "execute_result",
          "data": {
            "text/html": [
              "<div>\n",
              "<style scoped>\n",
              "    .dataframe tbody tr th:only-of-type {\n",
              "        vertical-align: middle;\n",
              "    }\n",
              "\n",
              "    .dataframe tbody tr th {\n",
              "        vertical-align: top;\n",
              "    }\n",
              "\n",
              "    .dataframe thead th {\n",
              "        text-align: right;\n",
              "    }\n",
              "</style>\n",
              "<table border=\"1\" class=\"dataframe\">\n",
              "  <thead>\n",
              "    <tr style=\"text-align: right;\">\n",
              "      <th></th>\n",
              "      <th>WHO region</th>\n",
              "      <th>Number_of_new_HIV_infections</th>\n",
              "      <th>New_HIV_infections_per_1000_uninfected_population_both_sexes</th>\n",
              "      <th>New_HIV_infections_per_1000_uninfected_population_Males</th>\n",
              "      <th>New_HIV_infections_per_1000_uninfected_population_Females</th>\n",
              "      <th>PEOPLE HAVING HIV</th>\n",
              "      <th>Year</th>\n",
              "      <th>Number_of_deaths_due_to_HIV/AIDS</th>\n",
              "    </tr>\n",
              "  </thead>\n",
              "  <tbody>\n",
              "    <tr>\n",
              "      <th>0</th>\n",
              "      <td>Global</td>\n",
              "      <td>1 700 000</td>\n",
              "      <td>0.22</td>\n",
              "      <td>0.23</td>\n",
              "      <td>0.21</td>\n",
              "      <td>38 000 000</td>\n",
              "      <td>2019</td>\n",
              "      <td>690 000</td>\n",
              "    </tr>\n",
              "    <tr>\n",
              "      <th>1</th>\n",
              "      <td>Global</td>\n",
              "      <td>1 700 000</td>\n",
              "      <td>0.22</td>\n",
              "      <td>0.23</td>\n",
              "      <td>0.21</td>\n",
              "      <td>38 000 000</td>\n",
              "      <td>2018</td>\n",
              "      <td>730 000</td>\n",
              "    </tr>\n",
              "    <tr>\n",
              "      <th>2</th>\n",
              "      <td>Global</td>\n",
              "      <td>1 700 000</td>\n",
              "      <td>0.22</td>\n",
              "      <td>0.23</td>\n",
              "      <td>0.21</td>\n",
              "      <td>38 000 000</td>\n",
              "      <td>2017</td>\n",
              "      <td>760 000</td>\n",
              "    </tr>\n",
              "    <tr>\n",
              "      <th>3</th>\n",
              "      <td>Global</td>\n",
              "      <td>1 700 000</td>\n",
              "      <td>0.22</td>\n",
              "      <td>0.23</td>\n",
              "      <td>0.21</td>\n",
              "      <td>38 000 000</td>\n",
              "      <td>2016</td>\n",
              "      <td>800 000</td>\n",
              "    </tr>\n",
              "    <tr>\n",
              "      <th>4</th>\n",
              "      <td>Global</td>\n",
              "      <td>1 700 000</td>\n",
              "      <td>0.22</td>\n",
              "      <td>0.23</td>\n",
              "      <td>0.21</td>\n",
              "      <td>38 000 000</td>\n",
              "      <td>2015</td>\n",
              "      <td>830 000</td>\n",
              "    </tr>\n",
              "  </tbody>\n",
              "</table>\n",
              "</div>"
            ],
            "text/plain": [
              "  WHO region  ... Number_of_deaths_due_to_HIV/AIDS\n",
              "0     Global  ...                         690 000 \n",
              "1     Global  ...                         730 000 \n",
              "2     Global  ...                         760 000 \n",
              "3     Global  ...                         800 000 \n",
              "4     Global  ...                         830 000 \n",
              "\n",
              "[5 rows x 8 columns]"
            ]
          },
          "metadata": {
            "tags": []
          },
          "execution_count": 62
        }
      ]
    },
    {
      "cell_type": "code",
      "metadata": {
        "id": "UHNRcqXcWl1i"
      },
      "source": [
        "data['Number_of_new_HIV_infections']=data['Number_of_new_HIV_infections'].str.replace(\" \",\"\")\n",
        "data['PEOPLE HAVING HIV']=data['PEOPLE HAVING HIV'].str.replace(\" \",\"\")\n",
        "data['Number_of_deaths_due_to_HIV/AIDS']=data['Number_of_deaths_due_to_HIV/AIDS'].str.replace(\" \",\"\")"
      ],
      "execution_count": null,
      "outputs": []
    },
    {
      "cell_type": "code",
      "metadata": {
        "colab": {
          "base_uri": "https://localhost:8080/",
          "height": 258
        },
        "id": "LehIhZRHX5BX",
        "outputId": "2a0f41f2-e4fc-447a-9ee7-563dc72ecf25"
      },
      "source": [
        "data.head()"
      ],
      "execution_count": null,
      "outputs": [
        {
          "output_type": "execute_result",
          "data": {
            "text/html": [
              "<div>\n",
              "<style scoped>\n",
              "    .dataframe tbody tr th:only-of-type {\n",
              "        vertical-align: middle;\n",
              "    }\n",
              "\n",
              "    .dataframe tbody tr th {\n",
              "        vertical-align: top;\n",
              "    }\n",
              "\n",
              "    .dataframe thead th {\n",
              "        text-align: right;\n",
              "    }\n",
              "</style>\n",
              "<table border=\"1\" class=\"dataframe\">\n",
              "  <thead>\n",
              "    <tr style=\"text-align: right;\">\n",
              "      <th></th>\n",
              "      <th>WHO region</th>\n",
              "      <th>Number_of_new_HIV_infections</th>\n",
              "      <th>New_HIV_infections_per_1000_uninfected_population_both_sexes</th>\n",
              "      <th>New_HIV_infections_per_1000_uninfected_population_Males</th>\n",
              "      <th>New_HIV_infections_per_1000_uninfected_population_Females</th>\n",
              "      <th>PEOPLE HAVING HIV</th>\n",
              "      <th>Year</th>\n",
              "      <th>Number_of_deaths_due_to_HIV/AIDS</th>\n",
              "    </tr>\n",
              "  </thead>\n",
              "  <tbody>\n",
              "    <tr>\n",
              "      <th>0</th>\n",
              "      <td>Global</td>\n",
              "      <td>1700000</td>\n",
              "      <td>0.22</td>\n",
              "      <td>0.23</td>\n",
              "      <td>0.21</td>\n",
              "      <td>38000000</td>\n",
              "      <td>2019</td>\n",
              "      <td>690000</td>\n",
              "    </tr>\n",
              "    <tr>\n",
              "      <th>1</th>\n",
              "      <td>Global</td>\n",
              "      <td>1700000</td>\n",
              "      <td>0.22</td>\n",
              "      <td>0.23</td>\n",
              "      <td>0.21</td>\n",
              "      <td>38000000</td>\n",
              "      <td>2018</td>\n",
              "      <td>730000</td>\n",
              "    </tr>\n",
              "    <tr>\n",
              "      <th>2</th>\n",
              "      <td>Global</td>\n",
              "      <td>1700000</td>\n",
              "      <td>0.22</td>\n",
              "      <td>0.23</td>\n",
              "      <td>0.21</td>\n",
              "      <td>38000000</td>\n",
              "      <td>2017</td>\n",
              "      <td>760000</td>\n",
              "    </tr>\n",
              "    <tr>\n",
              "      <th>3</th>\n",
              "      <td>Global</td>\n",
              "      <td>1700000</td>\n",
              "      <td>0.22</td>\n",
              "      <td>0.23</td>\n",
              "      <td>0.21</td>\n",
              "      <td>38000000</td>\n",
              "      <td>2016</td>\n",
              "      <td>800000</td>\n",
              "    </tr>\n",
              "    <tr>\n",
              "      <th>4</th>\n",
              "      <td>Global</td>\n",
              "      <td>1700000</td>\n",
              "      <td>0.22</td>\n",
              "      <td>0.23</td>\n",
              "      <td>0.21</td>\n",
              "      <td>38000000</td>\n",
              "      <td>2015</td>\n",
              "      <td>830000</td>\n",
              "    </tr>\n",
              "  </tbody>\n",
              "</table>\n",
              "</div>"
            ],
            "text/plain": [
              "  WHO region  ... Number_of_deaths_due_to_HIV/AIDS\n",
              "0     Global  ...                           690000\n",
              "1     Global  ...                           730000\n",
              "2     Global  ...                           760000\n",
              "3     Global  ...                           800000\n",
              "4     Global  ...                           830000\n",
              "\n",
              "[5 rows x 8 columns]"
            ]
          },
          "metadata": {
            "tags": []
          },
          "execution_count": 64
        }
      ]
    },
    {
      "cell_type": "code",
      "metadata": {
        "id": "lTpU9TTTfWgx"
      },
      "source": [
        "data = data[~data['New_HIV_infections_per_1000_uninfected_population_Females'].isin(['&lt;0.01 '])]"
      ],
      "execution_count": null,
      "outputs": []
    },
    {
      "cell_type": "code",
      "metadata": {
        "id": "5h4OlVdQ_gLf"
      },
      "source": [
        "data = data[~data['Number_of_deaths_due_to_HIV/AIDS'].isin(['&lt;500'])]"
      ],
      "execution_count": null,
      "outputs": []
    },
    {
      "cell_type": "code",
      "metadata": {
        "id": "5MMzzPfpX8fZ"
      },
      "source": [
        "for col in data.columns:\n",
        "    if col!='Year' and col!=\"WHO region\" :\n",
        "        data[col]=data[col].astype(float)"
      ],
      "execution_count": null,
      "outputs": []
    },
    {
      "cell_type": "code",
      "metadata": {
        "colab": {
          "base_uri": "https://localhost:8080/"
        },
        "id": "-rC6psWCWl5Z",
        "outputId": "fc44028a-1816-4b8a-bbcc-5043d1abc9f1"
      },
      "source": [
        "missing_values_count = data.isnull().sum()\n",
        "print(missing_values_count)"
      ],
      "execution_count": null,
      "outputs": [
        {
          "output_type": "stream",
          "text": [
            "WHO region                                                      0\n",
            "Number_of_new_HIV_infections                                    0\n",
            "New_HIV_infections_per_1000_uninfected_population_both_sexes    0\n",
            "New_HIV_infections_per_1000_uninfected_population_Males         0\n",
            "New_HIV_infections_per_1000_uninfected_population_Females       0\n",
            "PEOPLE HAVING HIV                                               0\n",
            "Year                                                            0\n",
            "Number_of_deaths_due_to_HIV/AIDS                                0\n",
            "dtype: int64\n"
          ],
          "name": "stdout"
        }
      ]
    },
    {
      "cell_type": "code",
      "metadata": {
        "id": "byUEiaTrWl67"
      },
      "source": [
        "data.to_excel(\"Cleaned HIV dataset.xlsx\")"
      ],
      "execution_count": null,
      "outputs": []
    },
    {
      "cell_type": "code",
      "metadata": {
        "id": "QVXN1lXBWl_K"
      },
      "source": [
        ""
      ],
      "execution_count": null,
      "outputs": []
    },
    {
      "cell_type": "code",
      "metadata": {
        "id": "nXmALjP3WmBp"
      },
      "source": [
        ""
      ],
      "execution_count": null,
      "outputs": []
    }
  ]
}